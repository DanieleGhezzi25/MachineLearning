{
 "cells": [
  {
   "cell_type": "code",
   "execution_count": null,
   "id": "initial_id",
   "metadata": {
    "collapsed": true
   },
   "outputs": [],
   "source": [
    "import cv2\n",
    "import numpy as np"
   ]
  },
  {
   "cell_type": "code",
   "outputs": [],
   "source": [
    "# Open the video capture from the mp4 video file\n",
    "cap = cv2.VideoCapture('')\n",
    "\n",
    "# Get the number of frames in the video\n",
    "n_frames = int(cap.get(cv2.CAP_PROP_FRAME_COUNT))\n",
    "print(f'The video contains {n_frames} frames')\n",
    "\n",
    "# Read frames one by one\n",
    "for i in range(n_frames):\n",
    "    ret, frame = cap.read()\n",
    "\n",
    "    # Do something with the frame before moving on to the next one...\n",
    "\n",
    "# don't forget to release the video capture\n",
    "cap.release()"
   ],
   "metadata": {
    "collapsed": false
   },
   "id": "27a138e7f68a692e"
  }
 ],
 "metadata": {
  "kernelspec": {
   "display_name": "Python 3",
   "language": "python",
   "name": "python3"
  },
  "language_info": {
   "codemirror_mode": {
    "name": "ipython",
    "version": 2
   },
   "file_extension": ".py",
   "mimetype": "text/x-python",
   "name": "python",
   "nbconvert_exporter": "python",
   "pygments_lexer": "ipython2",
   "version": "2.7.6"
  }
 },
 "nbformat": 4,
 "nbformat_minor": 5
}
